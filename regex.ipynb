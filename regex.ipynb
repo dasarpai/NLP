{
 "cells": [
  {
   "cell_type": "code",
   "execution_count": 1,
   "metadata": {},
   "outputs": [
    {
     "data": {
      "text/plain": [
       "<re.Match object; span=(5, 8), match='was'>"
      ]
     },
     "execution_count": 1,
     "metadata": {},
     "output_type": "execute_result"
    }
   ],
   "source": [
    "import re \n",
    "text = \"1998 was the year when the film titanic was released\" \n",
    "result = re.search(r\"[a-zA-z]+\", text) \n",
    "result "
   ]
  },
  {
   "cell_type": "code",
   "execution_count": 3,
   "metadata": {},
   "outputs": [
    {
     "data": {
      "text/plain": [
       "'The film Forrest Gump was released in year 1994'"
      ]
     },
     "execution_count": 3,
     "metadata": {},
     "output_type": "execute_result"
    }
   ],
   "source": [
    "text = \"The film Pulp Fiction was released in year 1994\"\n",
    "result = re.sub(r\"Pulp Fiction\", \"Forrest Gump\", text)\n",
    "result"
   ]
  },
  {
   "cell_type": "code",
   "execution_count": 4,
   "metadata": {},
   "outputs": [
    {
     "data": {
      "text/plain": [
       "'TXX XXXX PXXX FXXXXXX XXX XXXXXXXX XX XXXX 1994'"
      ]
     },
     "execution_count": 4,
     "metadata": {},
     "output_type": "execute_result"
    }
   ],
   "source": [
    "result = re.sub(r\"[a-z]\", \"X\", text)\n",
    "result"
   ]
  },
  {
   "cell_type": "code",
   "execution_count": 6,
   "metadata": {},
   "outputs": [
    {
     "data": {
      "text/plain": [
       "'The film Pulp Fiction was released in year '"
      ]
     },
     "execution_count": 6,
     "metadata": {},
     "output_type": "execute_result"
    }
   ],
   "source": [
    "#Removing Digits from a String\n",
    "text = \"The film Pulp Fiction was released in year 1994\" \n",
    "result = re.sub(r\"\\d\", \"\", text)\n",
    "result"
   ]
  },
  {
   "cell_type": "code",
   "execution_count": 7,
   "metadata": {},
   "outputs": [
    {
     "data": {
      "text/plain": [
       "'        1994'"
      ]
     },
     "execution_count": 7,
     "metadata": {},
     "output_type": "execute_result"
    }
   ],
   "source": [
    "#Removing Alphabet Letters from a String\n",
    "text = \"The film Pulp Fiction was released in year 1994\" \n",
    "result = re.sub(r\"[a-z]\", \"\", text, flags=re.I)\n",
    "result"
   ]
  },
  {
   "cell_type": "code",
   "execution_count": 9,
   "metadata": {},
   "outputs": [
    {
     "data": {
      "text/plain": [
       "\" , '@ '  ?   % $  .\""
      ]
     },
     "execution_count": 9,
     "metadata": {},
     "output_type": "execute_result"
    }
   ],
   "source": [
    "#Removing Word Characters\n",
    "text = \"The film, '@Pulp Fiction' was ? released in % $ year 1994.\" \n",
    "result = re.sub(r\"\\w\",\"\", text, flags = re.I)\n",
    "result"
   ]
  },
  {
   "cell_type": "code",
   "execution_count": 10,
   "metadata": {},
   "outputs": [
    {
     "data": {
      "text/plain": [
       "'ThefilmPulpFictionwasreleasedinyear1994'"
      ]
     },
     "execution_count": 10,
     "metadata": {},
     "output_type": "execute_result"
    }
   ],
   "source": [
    "#Removing Non-Word Characters\n",
    "text = \"The film, '@Pulp Fiction' was ? released in % $ year 1994.\" \n",
    "result = re.sub(r\"\\W\", \"\", text, flags=re.I)\n",
    "result"
   ]
  },
  {
   "cell_type": "code",
   "execution_count": 11,
   "metadata": {},
   "outputs": [
    {
     "data": {
      "text/plain": [
       "'The film Pulp Fiction was  released  in   year 1994'"
      ]
     },
     "execution_count": 11,
     "metadata": {},
     "output_type": "execute_result"
    }
   ],
   "source": [
    "#Grouping Multiple Patterns\n",
    "text = \"The film, '@Pulp Fiction' was ? released _ in % $ year 1994.\" \n",
    "result = re.sub(r\"[,@\\'?\\.$%_]\", \"\", text, flags=re.I)\n",
    "result"
   ]
  },
  {
   "cell_type": "code",
   "execution_count": 13,
   "metadata": {},
   "outputs": [
    {
     "data": {
      "text/plain": [
       "'The film Pulp Fiction was released in year 1994.'"
      ]
     },
     "execution_count": 13,
     "metadata": {},
     "output_type": "execute_result"
    }
   ],
   "source": [
    "##Removing Spaces in between\n",
    "text = \"The film Pulp Fiction was released in year     1994.\" \n",
    "result = re.sub(r\"\\s+\",\" \", text, flags = re.I)\n",
    "result"
   ]
  },
  {
   "cell_type": "code",
   "execution_count": 15,
   "metadata": {},
   "outputs": [
    {
     "data": {
      "text/plain": [
       "'The film Pulp Fiction was released in year 1994         '"
      ]
     },
     "execution_count": 15,
     "metadata": {},
     "output_type": "execute_result"
    }
   ],
   "source": [
    "#Removing Spaces from Start\n",
    "text = \"     The film Pulp Fiction was released in year 1994         \" \n",
    "result = re.sub(r\"^\\s+\", \"\", text)\n",
    "result"
   ]
  },
  {
   "cell_type": "code",
   "execution_count": 19,
   "metadata": {},
   "outputs": [
    {
     "data": {
      "text/plain": [
       "'     The film Pulp Fiction was released in year 1994'"
      ]
     },
     "execution_count": 19,
     "metadata": {},
     "output_type": "execute_result"
    }
   ],
   "source": [
    "#Removing Spaces from End\n",
    "text = \"     The film Pulp Fiction was released in year 1994         \" \n",
    "result = re.sub(r\"\\s+$\", \"\", text)\n",
    "result"
   ]
  },
  {
   "cell_type": "code",
   "execution_count": 17,
   "metadata": {},
   "outputs": [
    {
     "data": {
      "text/plain": [
       "'The film Pulp Fiction was released in year 1994'"
      ]
     },
     "execution_count": 17,
     "metadata": {},
     "output_type": "execute_result"
    }
   ],
   "source": [
    "#Removing a Single Character\n",
    "text = \"The film Pulp Fiction s was b released in year 1994\"\n",
    "result = re.sub(r\"\\s+[a-zA-Z]\\s+\", \" \", text)\n",
    "result"
   ]
  },
  {
   "cell_type": "code",
   "execution_count": 20,
   "metadata": {},
   "outputs": [
    {
     "data": {
      "text/plain": [
       "['The', 'film', 'Pulp', 'Fiction', 'was', 'released', 'in', 'year', '1994', '']"
      ]
     },
     "execution_count": 20,
     "metadata": {},
     "output_type": "execute_result"
    }
   ],
   "source": [
    "text = \"The film Pulp Fiction was released in year 1994 \" \n",
    "result = re.split(r\"\\s+\", text)\n",
    "result"
   ]
  },
  {
   "cell_type": "code",
   "execution_count": 21,
   "metadata": {},
   "outputs": [
    {
     "data": {
      "text/plain": [
       "<re.Match object; span=(31, 34), match='200'>"
      ]
     },
     "execution_count": 21,
     "metadata": {},
     "output_type": "execute_result"
    }
   ],
   "source": [
    "text = \"I want to buy a mobile between 200 and 400 euros\"\n",
    "result = re.search(r\"\\d+\", text)\n",
    "result"
   ]
  },
  {
   "cell_type": "code",
   "execution_count": 22,
   "metadata": {},
   "outputs": [
    {
     "data": {
      "text/plain": [
       "['200', '400']"
      ]
     },
     "execution_count": 22,
     "metadata": {},
     "output_type": "execute_result"
    }
   ],
   "source": [
    "text = \"I want to buy a mobile between 200 and 400 euros\" \n",
    "result = re.findall(r\"\\d+\", text)\n",
    "result"
   ]
  },
  {
   "cell_type": "code",
   "execution_count": null,
   "metadata": {},
   "outputs": [],
   "source": []
  }
 ],
 "metadata": {
  "kernelspec": {
   "display_name": "Python 3.9.7 ('base')",
   "language": "python",
   "name": "python3"
  },
  "language_info": {
   "codemirror_mode": {
    "name": "ipython",
    "version": 3
   },
   "file_extension": ".py",
   "mimetype": "text/x-python",
   "name": "python",
   "nbconvert_exporter": "python",
   "pygments_lexer": "ipython3",
   "version": "3.9.7"
  },
  "orig_nbformat": 4,
  "vscode": {
   "interpreter": {
    "hash": "9d785f3f579c7eb8deb3f390d635ecfac50be31d8c8ecf5dadb6e3b07ee4bc1d"
   }
  }
 },
 "nbformat": 4,
 "nbformat_minor": 2
}
